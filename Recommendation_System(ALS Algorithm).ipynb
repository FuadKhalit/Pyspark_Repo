{
  "nbformat": 4,
  "nbformat_minor": 0,
  "metadata": {
    "colab": {
      "name": "Recommendation System",
      "provenance": [],
      "toc_visible": true,
      "mount_file_id": "1APEywCclU1Uo9KwdiG-xf0kkppzBvZ-m",
      "authorship_tag": "ABX9TyO1pzAkNf6rFszV0ByC3pVr",
      "include_colab_link": true
    },
    "kernelspec": {
      "name": "python3",
      "display_name": "Python 3"
    }
  },
  "cells": [
    {
      "cell_type": "markdown",
      "metadata": {
        "id": "view-in-github",
        "colab_type": "text"
      },
      "source": [
        "<a href=\"https://colab.research.google.com/github/FuadKhalit/Pyspark_Repo/blob/main/Recommendation_System(ALS%20Algorithm).ipynb\" target=\"_parent\"><img src=\"https://colab.research.google.com/assets/colab-badge.svg\" alt=\"Open In Colab\"/></a>"
      ]
    },
    {
      "cell_type": "code",
      "metadata": {
        "colab": {
          "base_uri": "https://localhost:8080/"
        },
        "id": "b29UDorILGF0",
        "outputId": "28bdd99b-0101-4b3d-9c84-11176084e398"
      },
      "source": [
        "from google.colab import drive\n",
        "drive.mount('/content/drive')"
      ],
      "execution_count": 2,
      "outputs": [
        {
          "output_type": "stream",
          "text": [
            "Drive already mounted at /content/drive; to attempt to forcibly remount, call drive.mount(\"/content/drive\", force_remount=True).\n"
          ],
          "name": "stdout"
        }
      ]
    },
    {
      "cell_type": "code",
      "metadata": {
        "colab": {
          "base_uri": "https://localhost:8080/"
        },
        "id": "tb2ZTS8aMG4T",
        "outputId": "b65c8aa2-9b03-4af7-d4c1-fbdd5e2f6b68"
      },
      "source": [
        "!pip install pyspark\n"
      ],
      "execution_count": 4,
      "outputs": [
        {
          "output_type": "stream",
          "text": [
            "Collecting pyspark\n",
            "\u001b[?25l  Downloading https://files.pythonhosted.org/packages/f0/26/198fc8c0b98580f617cb03cb298c6056587b8f0447e20fa40c5b634ced77/pyspark-3.0.1.tar.gz (204.2MB)\n",
            "\u001b[K     |████████████████████████████████| 204.2MB 41kB/s \n",
            "\u001b[?25hCollecting py4j==0.10.9\n",
            "\u001b[?25l  Downloading https://files.pythonhosted.org/packages/9e/b6/6a4fb90cd235dc8e265a6a2067f2a2c99f0d91787f06aca4bcf7c23f3f80/py4j-0.10.9-py2.py3-none-any.whl (198kB)\n",
            "\u001b[K     |████████████████████████████████| 204kB 43.1MB/s \n",
            "\u001b[?25hBuilding wheels for collected packages: pyspark\n",
            "  Building wheel for pyspark (setup.py) ... \u001b[?25l\u001b[?25hdone\n",
            "  Created wheel for pyspark: filename=pyspark-3.0.1-py2.py3-none-any.whl size=204612243 sha256=496aed58d01acd472acc5b8aae25eec115beac127f840eabbcc282f4159a3236\n",
            "  Stored in directory: /root/.cache/pip/wheels/5e/bd/07/031766ca628adec8435bb40f0bd83bb676ce65ff4007f8e73f\n",
            "Successfully built pyspark\n",
            "Installing collected packages: py4j, pyspark\n",
            "Successfully installed py4j-0.10.9 pyspark-3.0.1\n"
          ],
          "name": "stdout"
        }
      ]
    },
    {
      "cell_type": "code",
      "metadata": {
        "id": "W-TwU8glCDKI"
      },
      "source": [
        "from pyspark.sql import SparkSession\n",
        "from pyspark.sql.functions import count, desc, col, max\n",
        "from pyspark.ml.feature import StringIndexer\n",
        "from pyspark.ml import Pipeline\n",
        "from pyspark.ml.recommendation import ALS\n",
        "from pyspark.ml.tuning import TrainValidationSplit, ParamGridBuilder\n"
      ],
      "execution_count": 6,
      "outputs": []
    },
    {
      "cell_type": "markdown",
      "metadata": {
        "id": "MAFrAoHwDSRp"
      },
      "source": [
        "# **Creating Spark Session**"
      ]
    },
    {
      "cell_type": "code",
      "metadata": {
        "id": "8oi0H09uDZYp"
      },
      "source": [
        "session1 = SparkSession.builder.appName(\"Spotify\").getOrCreate()"
      ],
      "execution_count": 7,
      "outputs": []
    },
    {
      "cell_type": "markdown",
      "metadata": {
        "id": "dg6FeN18NZJk"
      },
      "source": [
        "# **Loading Dataset**"
      ]
    },
    {
      "cell_type": "code",
      "metadata": {
        "colab": {
          "base_uri": "https://localhost:8080/"
        },
        "id": "PrgxZRxSNdHa",
        "outputId": "66eb5fff-5e3c-4eea-bfd2-4d4ed729f16d"
      },
      "source": [
        "file_path = '/content/drive/MyDrive/listenings.csv'\n",
        "df_listenings = session1.read.format('csv').option('header', True).option('inferSchema', True).load(file_path)\n",
        "df_listenings.show()"
      ],
      "execution_count": 9,
      "outputs": [
        {
          "output_type": "stream",
          "text": [
            "+-----------+-------------+--------------------+---------------+--------------------+\n",
            "|    user_id|         date|               track|         artist|               album|\n",
            "+-----------+-------------+--------------------+---------------+--------------------+\n",
            "|000Silenced|1299680100000|           Price Tag|       Jessie J|         Who You Are|\n",
            "|000Silenced|1299679920000|Price Tag (Acoust...|       Jessie J|           Price Tag|\n",
            "|000Silenced|1299679440000|Be Mine! (Ballad ...|          Robyn|            Be Mine!|\n",
            "|000Silenced|1299679200000|            Acapella|          Kelis|            Acapella|\n",
            "|000Silenced|1299675660000|   I'm Not Invisible|      The Tease|   I'm Not Invisible|\n",
            "|000Silenced|1297511400000|Bounce (Feat NORE...|       MSTRKRFT|         Fist of God|\n",
            "|000Silenced|1294498440000|Don't Stop The Mu...|        Rihanna|Addicted 2 Bassli...|\n",
            "|000Silenced|1292438340000|               ObZen|      Meshuggah|               ObZen|\n",
            "|000Silenced|1292437740000|   Yama's Messengers|         Gojira|The Way of All Flesh|\n",
            "|000Silenced|1292436360000|On the Brink of E...|   Napalm Death|Time Waits For No...|\n",
            "|000Silenced|1292436360000|On the Brink of E...|   Napalm Death|Time Waits For No...|\n",
            "|000Silenced|1292435940000|        In Deference|   Napalm Death|      Smear Campaign|\n",
            "|000Silenced|1292434920000|      Post(?)organic|    Decapitated|Organic Hallucinosis|\n",
            "|000Silenced|1292434560000|        Mind Feeders|   Dom & Roland| No Strings Attached|\n",
            "|000Silenced|1292434320000|Necrosadistic War...|Cannibal Corpse|                Kill|\n",
            "|000Silenced|1292365560000|     Dance All Night|   Dom & Roland|          Chronology|\n",
            "|000Silenced|1292365260000|          Late Night|   Dom & Roland|          Chronology|\n",
            "|000Silenced|1292365020000|          Freak Seen|   Dom & Roland|          Chronology|\n",
            "|000Silenced|1292364720000|Paradrenasite (Hi...|   Dom & Roland|          Chronology|\n",
            "|000Silenced|1292364300000|               Rhino|   Dom & Roland|          Chronology|\n",
            "+-----------+-------------+--------------------+---------------+--------------------+\n",
            "only showing top 20 rows\n",
            "\n"
          ],
          "name": "stdout"
        }
      ]
    },
    {
      "cell_type": "markdown",
      "metadata": {
        "id": "vVdmDuE8N2tt"
      },
      "source": [
        "# **Data Pre-Processing**"
      ]
    },
    {
      "cell_type": "code",
      "metadata": {
        "colab": {
          "base_uri": "https://localhost:8080/"
        },
        "id": "fKwkxPnVN7Kn",
        "outputId": "2770ae12-655a-461d-e78f-22a1aa97a1ee"
      },
      "source": [
        "# remove the date column\n",
        "df_listenings = df_listenings.drop('date')\n",
        "df_listenings.show()"
      ],
      "execution_count": 10,
      "outputs": [
        {
          "output_type": "stream",
          "text": [
            "+-----------+--------------------+---------------+--------------------+\n",
            "|    user_id|               track|         artist|               album|\n",
            "+-----------+--------------------+---------------+--------------------+\n",
            "|000Silenced|           Price Tag|       Jessie J|         Who You Are|\n",
            "|000Silenced|Price Tag (Acoust...|       Jessie J|           Price Tag|\n",
            "|000Silenced|Be Mine! (Ballad ...|          Robyn|            Be Mine!|\n",
            "|000Silenced|            Acapella|          Kelis|            Acapella|\n",
            "|000Silenced|   I'm Not Invisible|      The Tease|   I'm Not Invisible|\n",
            "|000Silenced|Bounce (Feat NORE...|       MSTRKRFT|         Fist of God|\n",
            "|000Silenced|Don't Stop The Mu...|        Rihanna|Addicted 2 Bassli...|\n",
            "|000Silenced|               ObZen|      Meshuggah|               ObZen|\n",
            "|000Silenced|   Yama's Messengers|         Gojira|The Way of All Flesh|\n",
            "|000Silenced|On the Brink of E...|   Napalm Death|Time Waits For No...|\n",
            "|000Silenced|On the Brink of E...|   Napalm Death|Time Waits For No...|\n",
            "|000Silenced|        In Deference|   Napalm Death|      Smear Campaign|\n",
            "|000Silenced|      Post(?)organic|    Decapitated|Organic Hallucinosis|\n",
            "|000Silenced|        Mind Feeders|   Dom & Roland| No Strings Attached|\n",
            "|000Silenced|Necrosadistic War...|Cannibal Corpse|                Kill|\n",
            "|000Silenced|     Dance All Night|   Dom & Roland|          Chronology|\n",
            "|000Silenced|          Late Night|   Dom & Roland|          Chronology|\n",
            "|000Silenced|          Freak Seen|   Dom & Roland|          Chronology|\n",
            "|000Silenced|Paradrenasite (Hi...|   Dom & Roland|          Chronology|\n",
            "|000Silenced|               Rhino|   Dom & Roland|          Chronology|\n",
            "+-----------+--------------------+---------------+--------------------+\n",
            "only showing top 20 rows\n",
            "\n"
          ],
          "name": "stdout"
        }
      ]
    },
    {
      "cell_type": "code",
      "metadata": {
        "colab": {
          "base_uri": "https://localhost:8080/"
        },
        "id": "5y5IM_kdQAyn",
        "outputId": "f92c3b29-67e8-4db6-b2c0-7f8c85838d11"
      },
      "source": [
        "df_listenings = df_listenings.na.drop()\n",
        "df_listenings.show()"
      ],
      "execution_count": 11,
      "outputs": [
        {
          "output_type": "stream",
          "text": [
            "+-----------+--------------------+---------------+--------------------+\n",
            "|    user_id|               track|         artist|               album|\n",
            "+-----------+--------------------+---------------+--------------------+\n",
            "|000Silenced|           Price Tag|       Jessie J|         Who You Are|\n",
            "|000Silenced|Price Tag (Acoust...|       Jessie J|           Price Tag|\n",
            "|000Silenced|Be Mine! (Ballad ...|          Robyn|            Be Mine!|\n",
            "|000Silenced|            Acapella|          Kelis|            Acapella|\n",
            "|000Silenced|   I'm Not Invisible|      The Tease|   I'm Not Invisible|\n",
            "|000Silenced|Bounce (Feat NORE...|       MSTRKRFT|         Fist of God|\n",
            "|000Silenced|Don't Stop The Mu...|        Rihanna|Addicted 2 Bassli...|\n",
            "|000Silenced|               ObZen|      Meshuggah|               ObZen|\n",
            "|000Silenced|   Yama's Messengers|         Gojira|The Way of All Flesh|\n",
            "|000Silenced|On the Brink of E...|   Napalm Death|Time Waits For No...|\n",
            "|000Silenced|On the Brink of E...|   Napalm Death|Time Waits For No...|\n",
            "|000Silenced|        In Deference|   Napalm Death|      Smear Campaign|\n",
            "|000Silenced|      Post(?)organic|    Decapitated|Organic Hallucinosis|\n",
            "|000Silenced|        Mind Feeders|   Dom & Roland| No Strings Attached|\n",
            "|000Silenced|Necrosadistic War...|Cannibal Corpse|                Kill|\n",
            "|000Silenced|     Dance All Night|   Dom & Roland|          Chronology|\n",
            "|000Silenced|          Late Night|   Dom & Roland|          Chronology|\n",
            "|000Silenced|          Freak Seen|   Dom & Roland|          Chronology|\n",
            "|000Silenced|Paradrenasite (Hi...|   Dom & Roland|          Chronology|\n",
            "|000Silenced|               Rhino|   Dom & Roland|          Chronology|\n",
            "+-----------+--------------------+---------------+--------------------+\n",
            "only showing top 20 rows\n",
            "\n"
          ],
          "name": "stdout"
        }
      ]
    },
    {
      "cell_type": "code",
      "metadata": {
        "colab": {
          "base_uri": "https://localhost:8080/"
        },
        "id": "w49Em4o1TTn8",
        "outputId": "5eba524b-0c58-408e-8678-3dd9cf378fc3"
      },
      "source": [
        "total_row = df_listenings.count()\n",
        "total_column = len(df_listenings.columns)\n",
        "print(total_row,total_column)"
      ],
      "execution_count": 13,
      "outputs": [
        {
          "output_type": "stream",
          "text": [
            "13758905 4\n"
          ],
          "name": "stdout"
        }
      ]
    },
    {
      "cell_type": "markdown",
      "metadata": {
        "id": "McC8LbSEQmkF"
      },
      "source": [
        "# **Data Exploration**"
      ]
    },
    {
      "cell_type": "code",
      "metadata": {
        "colab": {
          "base_uri": "https://localhost:8080/"
        },
        "id": "E7RxtjPyQtIU",
        "outputId": "b0315c5a-d756-41e5-fe29-c77b63b93497"
      },
      "source": [
        "#perform sql query to dataset\n",
        "\n",
        "df_listenings_agg = df_listenings.select('user_id','track').groupby('user_id', 'track').agg(count('*').alias('count')).orderBy('user_id')\n",
        "df_listenings_agg.show()"
      ],
      "execution_count": 15,
      "outputs": [
        {
          "output_type": "stream",
          "text": [
            "+-------+--------------------+-----+\n",
            "|user_id|               track|count|\n",
            "+-------+--------------------+-----+\n",
            "| --Seph|Chelsea Hotel - L...|    1|\n",
            "| --Seph|               Leloo|    1|\n",
            "| --Seph|          Paris 2004|    7|\n",
            "| --Seph| Air on the G String|    1|\n",
            "| --Seph|        Window Blues|    1|\n",
            "| --Seph|   Summa for Strings|    1|\n",
            "| --Seph|         The Embrace|    1|\n",
            "| --Seph|Hungarian Rhapsod...|    1|\n",
            "| --Seph|     The Way We Were|    1|\n",
            "| --Seph|Vestido Estampado...|    1|\n",
            "| --Seph| White Winter Hymnal|    3|\n",
            "| --Seph|Belina (Original ...|    1|\n",
            "| --Seph|Hungarian Dance No 5|    1|\n",
            "| --Seph|       Phantom Pt II|    1|\n",
            "| --Seph|              Monday|    1|\n",
            "| --Seph|  California Waiting|    1|\n",
            "| --Seph|      Hour for magic|    2|\n",
            "| --Seph|       Life On Mars?|    1|\n",
            "| --Seph|Virus (Luke Fair ...|    1|\n",
            "| --Seph|Airplanes [feat H...|    1|\n",
            "+-------+--------------------+-----+\n",
            "only showing top 20 rows\n",
            "\n"
          ],
          "name": "stdout"
        }
      ]
    },
    {
      "cell_type": "code",
      "metadata": {
        "colab": {
          "base_uri": "https://localhost:8080/"
        },
        "id": "g1R3wa8PbUdf",
        "outputId": "df5758a4-57b4-47c7-a34e-9c69eb1267ef"
      },
      "source": [
        "total_rows1 = df_listenings_agg.count()\n",
        "total_column1 = len(df_listenings_agg.columns)\n",
        "print(total_rows1,total_column1)\n"
      ],
      "execution_count": 19,
      "outputs": [
        {
          "output_type": "stream",
          "text": [
            "9930128 3\n"
          ],
          "name": "stdout"
        }
      ]
    },
    {
      "cell_type": "code",
      "metadata": {
        "id": "jmLXJ61GeNiD"
      },
      "source": [
        "#to limit the amount of data to be process to save some processing time\n",
        "df_listenings_agg = df_listenings_agg.limit (20000)"
      ],
      "execution_count": 20,
      "outputs": []
    },
    {
      "cell_type": "markdown",
      "metadata": {
        "id": "uVrC3UJ0diSW"
      },
      "source": [
        "# **Data Transformation**"
      ]
    },
    {
      "cell_type": "code",
      "metadata": {
        "colab": {
          "base_uri": "https://localhost:8080/"
        },
        "id": "eVY85FcOdlni",
        "outputId": "409b8ebe-a9e6-4801-cf62-49cc600622ba"
      },
      "source": [
        "#convert user_id & track from string to numeric value\n",
        "indexing = [StringIndexer(inputCol=col, outputCol=col+'_index').fit(df_listenings_agg)for col in list(set(df_listenings_agg.columns) - set(['count']))]\n",
        "\n",
        "pipeline = Pipeline(stages=indexing)\n",
        "\n",
        "data = pipeline.fit(df_listenings_agg).transform(df_listenings_agg)\n",
        "\n",
        "data.show()"
      ],
      "execution_count": 21,
      "outputs": [
        {
          "output_type": "stream",
          "text": [
            "+-------+--------------------+-----+-------------+-----------+\n",
            "|user_id|               track|count|user_id_index|track_index|\n",
            "+-------+--------------------+-----+-------------+-----------+\n",
            "| --Seph| White Winter Hymnal|    3|         69.0|       59.0|\n",
            "| --Seph|Virus (Luke Fair ...|    1|         69.0|    15896.0|\n",
            "| --Seph|Airplanes [feat H...|    1|         69.0|      519.0|\n",
            "| --Seph|Belina (Original ...|    1|         69.0|     3278.0|\n",
            "| --Seph|              Monday|    1|         69.0|      334.0|\n",
            "| --Seph|Hungarian Dance No 5|    1|         69.0|     7558.0|\n",
            "| --Seph|       Life On Mars?|    1|         69.0|     1161.0|\n",
            "| --Seph|  California Waiting|    1|         69.0|      197.0|\n",
            "| --Seph|       Phantom Pt II|    1|         69.0|     1377.0|\n",
            "| --Seph|   Summa for Strings|    1|         69.0|    13739.0|\n",
            "| --Seph|      Hour for magic|    2|         69.0|     7495.0|\n",
            "| --Seph|Hungarian Rhapsod...|    1|         69.0|     7559.0|\n",
            "| --Seph|     The Way We Were|    1|         69.0|    14960.0|\n",
            "| --Seph| Air on the G String|    1|         69.0|     2455.0|\n",
            "| --Seph|Vestido Estampado...|    1|         69.0|    15850.0|\n",
            "| --Seph|        Window Blues|    1|         69.0|     1840.0|\n",
            "| --Seph|               Leloo|    1|         69.0|     9057.0|\n",
            "| --Seph|         The Embrace|    1|         69.0|    14387.0|\n",
            "| --Seph|          Paris 2004|    7|         69.0|    11313.0|\n",
            "| --Seph|Chelsea Hotel - L...|    1|         69.0|     4183.0|\n",
            "+-------+--------------------+-----+-------------+-----------+\n",
            "only showing top 20 rows\n",
            "\n"
          ],
          "name": "stdout"
        }
      ]
    },
    {
      "cell_type": "code",
      "metadata": {
        "colab": {
          "base_uri": "https://localhost:8080/"
        },
        "id": "6G_XMgiziDNT",
        "outputId": "1802190f-2d52-4a56-fe08-6316885eea34"
      },
      "source": [
        "#select only 3 column from the data \n",
        "\n",
        "data = data.select('user_id_index' ,'track_index', 'count').orderBy('user_id_index')\n",
        "data.show()"
      ],
      "execution_count": 22,
      "outputs": [
        {
          "output_type": "stream",
          "text": [
            "+-------------+-----------+-----+\n",
            "|user_id_index|track_index|count|\n",
            "+-------------+-----------+-----+\n",
            "|          0.0|    10943.0|    1|\n",
            "|          0.0|    11628.0|    2|\n",
            "|          0.0|     1349.0|    1|\n",
            "|          0.0|      381.0|    1|\n",
            "|          0.0|     8692.0|    1|\n",
            "|          0.0|     6899.0|    1|\n",
            "|          0.0|    14044.0|    1|\n",
            "|          0.0|    15513.0|    1|\n",
            "|          0.0|    11978.0|    2|\n",
            "|          0.0|    15176.0|    1|\n",
            "|          0.0|     8305.0|    1|\n",
            "|          0.0|    13722.0|    1|\n",
            "|          0.0|    10620.0|    1|\n",
            "|          0.0|     4424.0|    1|\n",
            "|          0.0|    16732.0|    1|\n",
            "|          0.0|    10630.0|    1|\n",
            "|          0.0|    12169.0|    1|\n",
            "|          0.0|     4117.0|    1|\n",
            "|          0.0|    10336.0|    1|\n",
            "|          0.0|    16829.0|    1|\n",
            "+-------------+-----------+-----+\n",
            "only showing top 20 rows\n",
            "\n"
          ],
          "name": "stdout"
        }
      ]
    },
    {
      "cell_type": "markdown",
      "metadata": {
        "id": "B6R_vb7fjUd3"
      },
      "source": [
        "# **Split Train & Test Dataset**"
      ]
    },
    {
      "cell_type": "code",
      "metadata": {
        "id": "X96Q8UT7jZaS"
      },
      "source": [
        "(training,test) = data.randomSplit([0.7,0.3])"
      ],
      "execution_count": 24,
      "outputs": []
    },
    {
      "cell_type": "markdown",
      "metadata": {
        "id": "-4M-fRPqkGlg"
      },
      "source": [
        "# **Generating the Model**"
      ]
    },
    {
      "cell_type": "code",
      "metadata": {
        "id": "fJKdXlBykLLO"
      },
      "source": [
        "User = 'user_id_index'\n",
        "Track = 'track_index'\n",
        "Count = 'count'\n",
        "\n",
        "als = ALS(maxIter= 10, regParam=0.01, userCol=User, itemCol=Track, ratingCol=Count)\n",
        "model = als.fit(training)\n",
        "\n",
        "prediction = model.transform(test)"
      ],
      "execution_count": 25,
      "outputs": []
    },
    {
      "cell_type": "markdown",
      "metadata": {
        "id": "dy9GTpDUmMiL"
      },
      "source": [
        "# **Top 20 Track Recommendation for Each User**"
      ]
    },
    {
      "cell_type": "code",
      "metadata": {
        "colab": {
          "base_uri": "https://localhost:8080/"
        },
        "id": "Z6haBHDNmTs2",
        "outputId": "c7bd52ae-b65a-4bc4-a9bb-f649b6054fbe"
      },
      "source": [
        "recommend = model.recommendForAllUsers(20)\n",
        "recommend.show()"
      ],
      "execution_count": 26,
      "outputs": [
        {
          "output_type": "stream",
          "text": [
            "+-------------+--------------------+\n",
            "|user_id_index|     recommendations|\n",
            "+-------------+--------------------+\n",
            "|          148|[[460, 9.167991],...|\n",
            "|           31|[[12192, 7.945960...|\n",
            "|           85|[[954, 8.807956],...|\n",
            "|          137|[[16909, 16.62756...|\n",
            "|           65|[[16969, 9.138924...|\n",
            "|           53|[[16909, 9.401364...|\n",
            "|          133|[[14826, 17.99681...|\n",
            "|           78|[[2379, 8.210358]...|\n",
            "|          108|[[182, 9.833125],...|\n",
            "|           34|[[568, 10.319969]...|\n",
            "|          101|[[2379, 11.978337...|\n",
            "|          115|[[368, 8.890206],...|\n",
            "|          126|[[568, 13.922986]...|\n",
            "|           81|[[182, 10.728386]...|\n",
            "|           28|[[15430, 8.362229...|\n",
            "|           76|[[1738, 11.671547...|\n",
            "|           26|[[16909, 13.12751...|\n",
            "|           27|[[13402, 6.223134...|\n",
            "|           44|[[1738, 11.619315...|\n",
            "|          103|[[16969, 9.738611...|\n",
            "+-------------+--------------------+\n",
            "only showing top 20 rows\n",
            "\n"
          ],
          "name": "stdout"
        }
      ]
    },
    {
      "cell_type": "code",
      "metadata": {
        "colab": {
          "base_uri": "https://localhost:8080/"
        },
        "id": "SCtzR3K9nOIJ",
        "outputId": "624cadbd-531d-4e7e-a63c-3b8527b3b54b"
      },
      "source": [
        "#shoe the detail for 1 user\n",
        "#inference = for user id 148, the system recommend track no 460 that have rating 9.16 as first recommendation\n",
        "#this follow by track no 182 with rating 7.25, track 9973 rating 7.04 and so on\n",
        "recommend.take(1)"
      ],
      "execution_count": 27,
      "outputs": [
        {
          "output_type": "execute_result",
          "data": {
            "text/plain": [
              "[Row(user_id_index=148, recommendations=[Row(track_index=460, rating=9.167990684509277), Row(track_index=182, rating=7.253549575805664), Row(track_index=9973, rating=7.048877239227295), Row(track_index=16969, rating=6.990200042724609), Row(track_index=12892, rating=5.945867538452148), Row(track_index=357, rating=5.900254249572754), Row(track_index=348, rating=5.835694789886475), Row(track_index=11756, rating=5.405333518981934), Row(track_index=11689, rating=5.405333518981934), Row(track_index=4660, rating=5.405333518981934), Row(track_index=14379, rating=4.432724952697754), Row(track_index=5325, rating=4.382127285003662), Row(track_index=13563, rating=4.216183662414551), Row(track_index=7484, rating=4.135503768920898), Row(track_index=9552, rating=4.135503768920898), Row(track_index=3343, rating=4.117521286010742), Row(track_index=6260, rating=3.8343615531921387), Row(track_index=12399, rating=3.529304027557373), Row(track_index=938, rating=3.5176312923431396), Row(track_index=5194, rating=3.3402554988861084)])]"
            ]
          },
          "metadata": {
            "tags": []
          },
          "execution_count": 27
        }
      ]
    }
  ]
}