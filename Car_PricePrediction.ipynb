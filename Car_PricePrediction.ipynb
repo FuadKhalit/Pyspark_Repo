{
  "nbformat": 4,
  "nbformat_minor": 0,
  "metadata": {
    "colab": {
      "name": "Car_PricePrediction",
      "provenance": [],
      "toc_visible": true,
      "mount_file_id": "1UGWwJEDo5bhVOpm7b0_5th9osyfhkaqa",
      "authorship_tag": "ABX9TyOssNAumAigheiNUPa88r5g",
      "include_colab_link": true
    },
    "kernelspec": {
      "name": "python3",
      "display_name": "Python 3"
    },
    "accelerator": "GPU"
  },
  "cells": [
    {
      "cell_type": "markdown",
      "metadata": {
        "id": "view-in-github",
        "colab_type": "text"
      },
      "source": [
        "<a href=\"https://colab.research.google.com/github/FuadKhalit/Pyspark_Repo/blob/main/Car_PricePrediction.ipynb\" target=\"_parent\"><img src=\"https://colab.research.google.com/assets/colab-badge.svg\" alt=\"Open In Colab\"/></a>"
      ]
    },
    {
      "cell_type": "markdown",
      "metadata": {
        "id": "q-wOpHgEf4Ls"
      },
      "source": [
        "# **Install the Dependencies**\n"
      ]
    },
    {
      "cell_type": "code",
      "metadata": {
        "id": "ljvMDwfoPgFT"
      },
      "source": [
        "!apt-get install openjdk-8-jdk-headless -qq > /dev/null\n",
        "!wget -q https://downloads.apache.org/spark/spark-2.4.7/spark-2.4.7-bin-hadoop2.7.tgz\n",
        "!tar xf spark-2.4.7-bin-hadoop2.7.tgz\n",
        "!pip install -q findspark"
      ],
      "execution_count": 3,
      "outputs": []
    },
    {
      "cell_type": "markdown",
      "metadata": {
        "id": "q-jRFruogUni"
      },
      "source": [
        "# **Import Library**"
      ]
    },
    {
      "cell_type": "code",
      "metadata": {
        "id": "tR1MQ1I8Om4A"
      },
      "source": [
        "import os\n",
        "os.environ[\"JAVA_HOME\"] = \"/usr/lib/jvm/java-8-openjdk-amd64\"\n",
        "os.environ[\"SPARK_HOME\"] = \"/content/spark-2.4.7-bin-hadoop2.7\"\n",
        "import findspark\n",
        "findspark.init()\n",
        "from google.colab import files\n",
        "from pyspark.sql import SparkSession\n",
        "from pyspark.ml.feature import VectorAssembler\n",
        "from pyspark.sql.functions import isnan, when, count, col, lit\n",
        "from pyspark.ml.regression import RandomForestRegressor\n",
        "from pyspark.ml.evaluation import RegressionEvaluator\n",
        "from pyspark.ml import Pipeline\n",
        "from pyspark.ml.tuning import CrossValidator\n",
        "from pyspark.ml.evaluation import RegressionEvaluator\n",
        "from pyspark.ml.tuning import ParamGridBuilder"
      ],
      "execution_count": 4,
      "outputs": []
    },
    {
      "cell_type": "code",
      "metadata": {
        "id": "fVPoSEKMVetw"
      },
      "source": [
        "# start spark session locally\n",
        "sc = SparkSession.builder.master(\"local[*]\").getOrCreate()"
      ],
      "execution_count": 5,
      "outputs": []
    },
    {
      "cell_type": "markdown",
      "metadata": {
        "id": "RT-15WQ8gcdX"
      },
      "source": [
        "# **Upload Dataset**"
      ]
    },
    {
      "cell_type": "code",
      "metadata": {
        "colab": {
          "base_uri": "https://localhost:8080/"
        },
        "id": "-Rq4DfjzV6pB",
        "outputId": "0eba4c17-611e-4985-cf9d-c29496c16b0a"
      },
      "source": [
        "#upload file from google drive\n",
        "file_path = '/content/drive/MyDrive/CarFeatureMSRP.csv'\n",
        "car = sc.read.format('csv').option('header', True).option('inferSchema', True).load(file_path)\n",
        "car.show()\n",
        "\n",
        "#Upload file directly from Local Machine\n",
        "#files.upload()\n",
        "#car = sc.read.csv('CarFeatureMSRP.csv',inferSchema=True, header=True)"
      ],
      "execution_count": 6,
      "outputs": [
        {
          "output_type": "stream",
          "text": [
            "+----+----------+----+--------------------+---------+----------------+-----------------+-----------------+---------------+--------------------+------------+-------------+-----------+--------+----------+-----+\n",
            "|Make|     Model|Year|    Engine Fuel Type|Engine HP|Engine Cylinders|Transmission Type|    Driven_Wheels|Number of Doors|     Market Category|Vehicle Size|Vehicle Style|highway MPG|city mpg|Popularity| MSRP|\n",
            "+----+----------+----+--------------------+---------+----------------+-----------------+-----------------+---------------+--------------------+------------+-------------+-----------+--------+----------+-----+\n",
            "| BMW|1 Series M|2011|premium unleaded ...|      335|               6|           MANUAL| rear wheel drive|              2|Factory Tuner,Lux...|     Compact|        Coupe|         26|      19|      3916|46135|\n",
            "| BMW|  1 Series|2011|premium unleaded ...|      300|               6|           MANUAL| rear wheel drive|              2|  Luxury,Performance|     Compact|  Convertible|         28|      19|      3916|40650|\n",
            "| BMW|  1 Series|2011|premium unleaded ...|      300|               6|           MANUAL| rear wheel drive|              2|Luxury,High-Perfo...|     Compact|        Coupe|         28|      20|      3916|36350|\n",
            "| BMW|  1 Series|2011|premium unleaded ...|      230|               6|           MANUAL| rear wheel drive|              2|  Luxury,Performance|     Compact|        Coupe|         28|      18|      3916|29450|\n",
            "| BMW|  1 Series|2011|premium unleaded ...|      230|               6|           MANUAL| rear wheel drive|              2|              Luxury|     Compact|  Convertible|         28|      18|      3916|34500|\n",
            "| BMW|  1 Series|2012|premium unleaded ...|      230|               6|           MANUAL| rear wheel drive|              2|  Luxury,Performance|     Compact|        Coupe|         28|      18|      3916|31200|\n",
            "| BMW|  1 Series|2012|premium unleaded ...|      300|               6|           MANUAL| rear wheel drive|              2|  Luxury,Performance|     Compact|  Convertible|         26|      17|      3916|44100|\n",
            "| BMW|  1 Series|2012|premium unleaded ...|      300|               6|           MANUAL| rear wheel drive|              2|Luxury,High-Perfo...|     Compact|        Coupe|         28|      20|      3916|39300|\n",
            "| BMW|  1 Series|2012|premium unleaded ...|      230|               6|           MANUAL| rear wheel drive|              2|              Luxury|     Compact|  Convertible|         28|      18|      3916|36900|\n",
            "| BMW|  1 Series|2013|premium unleaded ...|      230|               6|           MANUAL| rear wheel drive|              2|              Luxury|     Compact|  Convertible|         27|      18|      3916|37200|\n",
            "| BMW|  1 Series|2013|premium unleaded ...|      300|               6|           MANUAL| rear wheel drive|              2|Luxury,High-Perfo...|     Compact|        Coupe|         28|      20|      3916|39600|\n",
            "| BMW|  1 Series|2013|premium unleaded ...|      230|               6|           MANUAL| rear wheel drive|              2|  Luxury,Performance|     Compact|        Coupe|         28|      19|      3916|31500|\n",
            "| BMW|  1 Series|2013|premium unleaded ...|      300|               6|           MANUAL| rear wheel drive|              2|  Luxury,Performance|     Compact|  Convertible|         28|      19|      3916|44400|\n",
            "| BMW|  1 Series|2013|premium unleaded ...|      230|               6|           MANUAL| rear wheel drive|              2|              Luxury|     Compact|  Convertible|         28|      19|      3916|37200|\n",
            "| BMW|  1 Series|2013|premium unleaded ...|      230|               6|           MANUAL| rear wheel drive|              2|  Luxury,Performance|     Compact|        Coupe|         28|      19|      3916|31500|\n",
            "| BMW|  1 Series|2013|premium unleaded ...|      320|               6|           MANUAL| rear wheel drive|              2|Luxury,High-Perfo...|     Compact|  Convertible|         25|      18|      3916|48250|\n",
            "| BMW|  1 Series|2013|premium unleaded ...|      320|               6|           MANUAL| rear wheel drive|              2|Luxury,High-Perfo...|     Compact|        Coupe|         28|      20|      3916|43550|\n",
            "|Audi|       100|1992|    regular unleaded|      172|               6|           MANUAL|front wheel drive|              4|              Luxury|     Midsize|        Sedan|         24|      17|      3105| 2000|\n",
            "|Audi|       100|1992|    regular unleaded|      172|               6|           MANUAL|front wheel drive|              4|              Luxury|     Midsize|        Sedan|         24|      17|      3105| 2000|\n",
            "|Audi|       100|1992|    regular unleaded|      172|               6|        AUTOMATIC|  all wheel drive|              4|              Luxury|     Midsize|        Wagon|         20|      16|      3105| 2000|\n",
            "+----+----------+----+--------------------+---------+----------------+-----------------+-----------------+---------------+--------------------+------------+-------------+-----------+--------+----------+-----+\n",
            "only showing top 20 rows\n",
            "\n"
          ],
          "name": "stdout"
        }
      ]
    },
    {
      "cell_type": "markdown",
      "metadata": {
        "id": "u87CnHG4YmfU"
      },
      "source": [
        "# **Data Exploration**"
      ]
    },
    {
      "cell_type": "code",
      "metadata": {
        "colab": {
          "base_uri": "https://localhost:8080/",
          "height": 866
        },
        "id": "EF1KAj0YYpdH",
        "outputId": "e3931c59-cc9c-44bd-a703-6722b6907b81"
      },
      "source": [
        "car.printSchema()\n",
        "car.describe().toPandas().transpose()"
      ],
      "execution_count": 7,
      "outputs": [
        {
          "output_type": "stream",
          "text": [
            "root\n",
            " |-- Make: string (nullable = true)\n",
            " |-- Model: string (nullable = true)\n",
            " |-- Year: integer (nullable = true)\n",
            " |-- Engine Fuel Type: string (nullable = true)\n",
            " |-- Engine HP: integer (nullable = true)\n",
            " |-- Engine Cylinders: integer (nullable = true)\n",
            " |-- Transmission Type: string (nullable = true)\n",
            " |-- Driven_Wheels: string (nullable = true)\n",
            " |-- Number of Doors: integer (nullable = true)\n",
            " |-- Market Category: string (nullable = true)\n",
            " |-- Vehicle Size: string (nullable = true)\n",
            " |-- Vehicle Style: string (nullable = true)\n",
            " |-- highway MPG: integer (nullable = true)\n",
            " |-- city mpg: integer (nullable = true)\n",
            " |-- Popularity: integer (nullable = true)\n",
            " |-- MSRP: integer (nullable = true)\n",
            "\n"
          ],
          "name": "stdout"
        },
        {
          "output_type": "execute_result",
          "data": {
            "text/html": [
              "<div>\n",
              "<style scoped>\n",
              "    .dataframe tbody tr th:only-of-type {\n",
              "        vertical-align: middle;\n",
              "    }\n",
              "\n",
              "    .dataframe tbody tr th {\n",
              "        vertical-align: top;\n",
              "    }\n",
              "\n",
              "    .dataframe thead th {\n",
              "        text-align: right;\n",
              "    }\n",
              "</style>\n",
              "<table border=\"1\" class=\"dataframe\">\n",
              "  <thead>\n",
              "    <tr style=\"text-align: right;\">\n",
              "      <th></th>\n",
              "      <th>0</th>\n",
              "      <th>1</th>\n",
              "      <th>2</th>\n",
              "      <th>3</th>\n",
              "      <th>4</th>\n",
              "    </tr>\n",
              "  </thead>\n",
              "  <tbody>\n",
              "    <tr>\n",
              "      <th>summary</th>\n",
              "      <td>count</td>\n",
              "      <td>mean</td>\n",
              "      <td>stddev</td>\n",
              "      <td>min</td>\n",
              "      <td>max</td>\n",
              "    </tr>\n",
              "    <tr>\n",
              "      <th>Make</th>\n",
              "      <td>11914</td>\n",
              "      <td>None</td>\n",
              "      <td>None</td>\n",
              "      <td>Acura</td>\n",
              "      <td>Volvo</td>\n",
              "    </tr>\n",
              "    <tr>\n",
              "      <th>Model</th>\n",
              "      <td>11914</td>\n",
              "      <td>745.5822222222222</td>\n",
              "      <td>1490.8280590623795</td>\n",
              "      <td>1 Series</td>\n",
              "      <td>xD</td>\n",
              "    </tr>\n",
              "    <tr>\n",
              "      <th>Year</th>\n",
              "      <td>11914</td>\n",
              "      <td>2010.384337753903</td>\n",
              "      <td>7.5797398875957995</td>\n",
              "      <td>1990</td>\n",
              "      <td>2017</td>\n",
              "    </tr>\n",
              "    <tr>\n",
              "      <th>Engine Fuel Type</th>\n",
              "      <td>11911</td>\n",
              "      <td>None</td>\n",
              "      <td>None</td>\n",
              "      <td>diesel</td>\n",
              "      <td>regular unleaded</td>\n",
              "    </tr>\n",
              "    <tr>\n",
              "      <th>Engine HP</th>\n",
              "      <td>11845</td>\n",
              "      <td>249.38607007176023</td>\n",
              "      <td>109.19187025917194</td>\n",
              "      <td>55</td>\n",
              "      <td>1001</td>\n",
              "    </tr>\n",
              "    <tr>\n",
              "      <th>Engine Cylinders</th>\n",
              "      <td>11884</td>\n",
              "      <td>5.628828677213059</td>\n",
              "      <td>1.78055934824622</td>\n",
              "      <td>0</td>\n",
              "      <td>16</td>\n",
              "    </tr>\n",
              "    <tr>\n",
              "      <th>Transmission Type</th>\n",
              "      <td>11914</td>\n",
              "      <td>None</td>\n",
              "      <td>None</td>\n",
              "      <td>AUTOMATED_MANUAL</td>\n",
              "      <td>UNKNOWN</td>\n",
              "    </tr>\n",
              "    <tr>\n",
              "      <th>Driven_Wheels</th>\n",
              "      <td>11914</td>\n",
              "      <td>None</td>\n",
              "      <td>None</td>\n",
              "      <td>all wheel drive</td>\n",
              "      <td>rear wheel drive</td>\n",
              "    </tr>\n",
              "    <tr>\n",
              "      <th>Number of Doors</th>\n",
              "      <td>11908</td>\n",
              "      <td>3.4360933825999327</td>\n",
              "      <td>0.8813153865835529</td>\n",
              "      <td>2</td>\n",
              "      <td>4</td>\n",
              "    </tr>\n",
              "    <tr>\n",
              "      <th>Market Category</th>\n",
              "      <td>11914</td>\n",
              "      <td>None</td>\n",
              "      <td>None</td>\n",
              "      <td>Crossover</td>\n",
              "      <td>Performance,Hybrid</td>\n",
              "    </tr>\n",
              "    <tr>\n",
              "      <th>Vehicle Size</th>\n",
              "      <td>11914</td>\n",
              "      <td>None</td>\n",
              "      <td>None</td>\n",
              "      <td>Compact</td>\n",
              "      <td>Midsize</td>\n",
              "    </tr>\n",
              "    <tr>\n",
              "      <th>Vehicle Style</th>\n",
              "      <td>11914</td>\n",
              "      <td>None</td>\n",
              "      <td>None</td>\n",
              "      <td>2dr Hatchback</td>\n",
              "      <td>Wagon</td>\n",
              "    </tr>\n",
              "    <tr>\n",
              "      <th>highway MPG</th>\n",
              "      <td>11914</td>\n",
              "      <td>26.637485311398354</td>\n",
              "      <td>8.863000766979422</td>\n",
              "      <td>12</td>\n",
              "      <td>354</td>\n",
              "    </tr>\n",
              "    <tr>\n",
              "      <th>city mpg</th>\n",
              "      <td>11914</td>\n",
              "      <td>19.73325499412456</td>\n",
              "      <td>8.987798160299237</td>\n",
              "      <td>7</td>\n",
              "      <td>137</td>\n",
              "    </tr>\n",
              "    <tr>\n",
              "      <th>Popularity</th>\n",
              "      <td>11914</td>\n",
              "      <td>1554.9111969111968</td>\n",
              "      <td>1441.8553466274648</td>\n",
              "      <td>2</td>\n",
              "      <td>5657</td>\n",
              "    </tr>\n",
              "    <tr>\n",
              "      <th>MSRP</th>\n",
              "      <td>11914</td>\n",
              "      <td>40594.737032063116</td>\n",
              "      <td>60109.10360365422</td>\n",
              "      <td>2000</td>\n",
              "      <td>2065902</td>\n",
              "    </tr>\n",
              "  </tbody>\n",
              "</table>\n",
              "</div>"
            ],
            "text/plain": [
              "                       0  ...                   4\n",
              "summary            count  ...                 max\n",
              "Make               11914  ...               Volvo\n",
              "Model              11914  ...                  xD\n",
              "Year               11914  ...                2017\n",
              "Engine Fuel Type   11911  ...    regular unleaded\n",
              "Engine HP          11845  ...                1001\n",
              "Engine Cylinders   11884  ...                  16\n",
              "Transmission Type  11914  ...             UNKNOWN\n",
              "Driven_Wheels      11914  ...    rear wheel drive\n",
              "Number of Doors    11908  ...                   4\n",
              "Market Category    11914  ...  Performance,Hybrid\n",
              "Vehicle Size       11914  ...             Midsize\n",
              "Vehicle Style      11914  ...               Wagon\n",
              "highway MPG        11914  ...                 354\n",
              "city mpg           11914  ...                 137\n",
              "Popularity         11914  ...                5657\n",
              "MSRP               11914  ...             2065902\n",
              "\n",
              "[17 rows x 5 columns]"
            ]
          },
          "metadata": {
            "tags": []
          },
          "execution_count": 7
        }
      ]
    },
    {
      "cell_type": "code",
      "metadata": {
        "id": "9Zvbr97Lawyg"
      },
      "source": [
        "def replace(column, value):\n",
        "  return when(column != value, column).otherwise(lit(None))\n",
        "car = car.withColumn(\"Market Category\", replace (col(\"Market Category\"), \"N/A\"))"
      ],
      "execution_count": 8,
      "outputs": []
    },
    {
      "cell_type": "code",
      "metadata": {
        "colab": {
          "base_uri": "https://localhost:8080/"
        },
        "id": "E2DOTXNRcfDu",
        "outputId": "643983a7-872a-4187-c47a-84a6f4f0c9ef"
      },
      "source": [
        "#show missing value in dataset\n",
        "car.select([count(when(isnan(c) | col(c).isNull(), c)).alias(c) for c in car.columns]).show()"
      ],
      "execution_count": 9,
      "outputs": [
        {
          "output_type": "stream",
          "text": [
            "+----+-----+----+----------------+---------+----------------+-----------------+-------------+---------------+---------------+------------+-------------+-----------+--------+----------+----+\n",
            "|Make|Model|Year|Engine Fuel Type|Engine HP|Engine Cylinders|Transmission Type|Driven_Wheels|Number of Doors|Market Category|Vehicle Size|Vehicle Style|highway MPG|city mpg|Popularity|MSRP|\n",
            "+----+-----+----+----------------+---------+----------------+-----------------+-------------+---------------+---------------+------------+-------------+-----------+--------+----------+----+\n",
            "|   0|    0|   0|               3|       69|              30|                0|            0|              6|           3742|           0|            0|          0|       0|         0|   0|\n",
            "+----+-----+----+----------------+---------+----------------+-----------------+-------------+---------------+---------------+------------+-------------+-----------+--------+----------+----+\n",
            "\n"
          ],
          "name": "stdout"
        }
      ]
    },
    {
      "cell_type": "code",
      "metadata": {
        "colab": {
          "base_uri": "https://localhost:8080/"
        },
        "id": "RdKpwbAhdlZu",
        "outputId": "9c610e15-c427-439d-fa53-a64ee1e6ab23"
      },
      "source": [
        "car = car.drop(\"Market Category\")\n",
        "car = car.na.drop()\n",
        "print((car.count(), len(car.columns)))"
      ],
      "execution_count": 10,
      "outputs": [
        {
          "output_type": "stream",
          "text": [
            "(11812, 15)\n"
          ],
          "name": "stdout"
        }
      ]
    },
    {
      "cell_type": "markdown",
      "metadata": {
        "id": "8Sx4bsWvgknB"
      },
      "source": [
        "This will print the number of row (11,812) & column (12) after dropping"
      ]
    },
    {
      "cell_type": "markdown",
      "metadata": {
        "id": "mWQhEmpSmQD4"
      },
      "source": [
        "# **Random Forest Pipeline**"
      ]
    },
    {
      "cell_type": "code",
      "metadata": {
        "id": "MOagWGI1mTsa"
      },
      "source": [
        "assembler = VectorAssembler(inputCols=['Year', 'Engine HP', 'Engine Cylinders', \n",
        "                                       'Number of Doors', 'highway MPG', 'city mpg', 'Popularity', \n",
        "                                       ], outputCol='Attributes') #combine the value of input into single vector & store to attributes\n",
        "\n",
        "regressor = RandomForestRegressor(featuresCol='Attributes', labelCol='MSRP')\n",
        "\n",
        "pipeline = Pipeline(stages=[assembler, regressor])\n",
        "\n",
        "pipeline.write().overwrite().save(\"pipeline\") #pipeline is save in folder name 'pipeline'"
      ],
      "execution_count": 11,
      "outputs": []
    },
    {
      "cell_type": "code",
      "metadata": {
        "colab": {
          "base_uri": "https://localhost:8080/"
        },
        "id": "PBu5V9MCpy71",
        "outputId": "b87f5e6f-6506-442d-c691-690768707339"
      },
      "source": [
        "!ls #check the folder in filesystem"
      ],
      "execution_count": 12,
      "outputs": [
        {
          "output_type": "stream",
          "text": [
            "drive\t  sample_data\t\t     spark-2.4.7-bin-hadoop2.7.tgz\n",
            "pipeline  spark-2.4.7-bin-hadoop2.7\n"
          ],
          "name": "stdout"
        }
      ]
    },
    {
      "cell_type": "code",
      "metadata": {
        "id": "YPp3aj55p7lb"
      },
      "source": [
        "#load pipeline, create hyperparameter grid & create crossvalidator\n",
        "pipelineModel = Pipeline.load(\"pipeline\")\n",
        "paramgrid = ParamGridBuilder() \\\n",
        "  .addGrid(regressor.numTrees, [100,500]) \\\n",
        "  .build()\n",
        "crossval = CrossValidator(estimator=pipelineModel,\n",
        "                          estimatorParamMaps = paramgrid,\n",
        "                          evaluator=RegressionEvaluator(labelCol='MSRP'),\n",
        "                          numFolds=3)"
      ],
      "execution_count": 16,
      "outputs": []
    },
    {
      "cell_type": "code",
      "metadata": {
        "id": "yYepcmvv77SG"
      },
      "source": [
        "#pass the data, create model & predict\n",
        "train_data, test_data = car.randomSplit([0.8,0.2], seed=123)\n",
        "cvModel = crossval.fit(train_data)\n"
      ],
      "execution_count": 18,
      "outputs": []
    },
    {
      "cell_type": "code",
      "metadata": {
        "colab": {
          "base_uri": "https://localhost:8080/"
        },
        "id": "apktlIwW9IwI",
        "outputId": "6fa2bd99-3ba7-4af7-e10c-4b933fc18b2d"
      },
      "source": [
        "bestModel = cvModel.bestModel\n",
        "for x in range(len(bestModel.stages)):\n",
        "  print(bestModel.stages[x])"
      ],
      "execution_count": 19,
      "outputs": [
        {
          "output_type": "stream",
          "text": [
            "VectorAssembler_e65f5a8341b9\n",
            "RandomForestRegressionModel (uid=RandomForestRegressor_1e30b8d48b91) with 100 trees\n"
          ],
          "name": "stdout"
        }
      ]
    },
    {
      "cell_type": "code",
      "metadata": {
        "colab": {
          "base_uri": "https://localhost:8080/"
        },
        "id": "9BEEfEmC-ne_",
        "outputId": "f01e5ac7-aa92-4e59-cb3b-bdb30b365eb0"
      },
      "source": [
        "pred = cvModel.transform(test_data)\n",
        "pred.select('MSRP','prediction').show()"
      ],
      "execution_count": 20,
      "outputs": [
        {
          "output_type": "stream",
          "text": [
            "+-----+------------------+\n",
            "| MSRP|        prediction|\n",
            "+-----+------------------+\n",
            "|29980|31337.212306144535|\n",
            "|28030|31337.212306144535|\n",
            "|30030|31337.212306144535|\n",
            "|32700| 37053.33112287236|\n",
            "|29350|23021.655422945656|\n",
            "|31890|28174.999414337697|\n",
            "|34980|28174.999414337697|\n",
            "| 2799| 6178.003976382511|\n",
            "| 2827| 5565.348544467466|\n",
            "| 3381| 7165.369213043112|\n",
            "|24450|27376.959152733936|\n",
            "|21050| 22754.97989433297|\n",
            "| 2000|  5130.32252284835|\n",
            "| 2181| 9420.359314829693|\n",
            "| 2144| 5240.749645039148|\n",
            "| 2265| 9449.533218132121|\n",
            "|56780|40631.630199128966|\n",
            "|49440| 40702.10939543178|\n",
            "|50640| 40702.10939543178|\n",
            "|52640| 40702.10939543178|\n",
            "+-----+------------------+\n",
            "only showing top 20 rows\n",
            "\n"
          ],
          "name": "stdout"
        }
      ]
    },
    {
      "cell_type": "code",
      "metadata": {
        "colab": {
          "base_uri": "https://localhost:8080/"
        },
        "id": "s9NIoLXHB3VY",
        "outputId": "1e0abfed-8d62-4110-bfe1-71368a6d8a0f"
      },
      "source": [
        "eval = RegressionEvaluator(labelCol='MSRP')\n",
        "rmse = eval.evaluate(pred)\n",
        "mse = eval.evaluate(pred, {eval.metricName: \"mse\"})\n",
        "mae = eval.evaluate(pred, {eval.metricName: \"mae\"})\n",
        "rsquare = eval.evaluate(pred, {eval.metricName: \"r2\"})\n",
        "\n",
        "print(\"RMSE: %.3f\" %rmse)\n",
        "print(\"MSE: %.3f\" %mse)\n",
        "print(\"MAE: %.3f\" %mae)\n",
        "print(\"RSquare: %.3f\" %rsquare)\n"
      ],
      "execution_count": 21,
      "outputs": [
        {
          "output_type": "stream",
          "text": [
            "RMSE: 16331.103\n",
            "MSE: 266704919.950\n",
            "MAE: 8203.649\n",
            "RSquare: 0.883\n"
          ],
          "name": "stdout"
        }
      ]
    }
  ]
}